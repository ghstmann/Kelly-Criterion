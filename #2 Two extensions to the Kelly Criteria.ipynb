{
 "cells": [
  {
   "cell_type": "markdown",
   "id": "09b0d344-719d-4d93-9bc5-c0b609408924",
   "metadata": {},
   "source": [
    "## Two extensions to the Kelly Criteria\n",
    "\n",
    "Today provides a couple of quick and easy results, again motivated by Thorpe's discussion with Buffett, as well as a few other papers.\n",
    "\n",
    "In their discussion, Thorpe gave an example of investing in stocks where there were three outcomes.  This was somewhat exciting, to think he would provide a solution for a three-outcome setup.  Instead, the middle outcome was set to zero and he used the standard Kelly setup.  Today, we will look at two extensions to Kelly:\n",
    "\n",
    "- [What if p and q don't add up to one?](#first)\n",
    "- [Adding a risk free rate](#second)\n",
    "\n",
    "---\n",
    "<a id='first'></a>\n",
    "### What if p and q don't add up to one?\n",
    "\n",
    "We start the derivation just as we did <a href=\"https://github.com/ghstmann/Kelly-Criterion/blob/main/Basic%20Kelly.ipynb\">last week</a>.  (see last week's post for the Thorpe link) Specifically, we <u>do not</u> use the logarithmic transform, we take the first derivative, and we solve for the $f$ that sets it to zero. (I also substituted out $\\rho$ for $p$ to make programming easier.)"
   ]
  },
  {
   "cell_type": "code",
   "execution_count": 6,
   "id": "f37474be-feb4-4724-8264-7d57d12c520f",
   "metadata": {},
   "outputs": [],
   "source": [
    "import sympy as sp"
   ]
  },
  {
   "cell_type": "code",
   "execution_count": 13,
   "id": "144f4ffa-dc1d-4173-abe0-1cd63b23a96d",
   "metadata": {},
   "outputs": [
    {
     "data": {
      "text/latex": [
       "$\\displaystyle \\left(b_{1} f + 1\\right)^{p} \\left(b_{2} f + 1\\right)^{q}$"
      ],
      "text/plain": [
       "(b1*f + 1)**p*(b2*f + 1)**q"
      ]
     },
     "execution_count": 13,
     "metadata": {},
     "output_type": "execute_result"
    }
   ],
   "source": [
    "f, b1, b2, p, q = sp.symbols('f b1 b2 p q')\n",
    "alt_kelly = (1 + b1 * f)**p * (1 + b2 * f)**q\n",
    "\n",
    "alt_kelly"
   ]
  },
  {
   "cell_type": "code",
   "execution_count": 17,
   "id": "ab6963f5-2b24-4926-93f1-75f0f35f0e99",
   "metadata": {},
   "outputs": [
    {
     "data": {
      "text/latex": [
       "$\\displaystyle - \\frac{p}{b_{2} \\left(p + q\\right)} - \\frac{q}{b_{1} \\left(p + q\\right)}$"
      ],
      "text/plain": [
       "-p/(b2*(p + q)) - q/(b1*(p + q))"
      ]
     },
     "execution_count": 17,
     "metadata": {},
     "output_type": "execute_result"
    }
   ],
   "source": [
    "# taking the first derivative\n",
    "first = sp.diff(alt_kelly, f)\n",
    "solution = sp.simplify(sp.solve(first, f)[0])\n",
    "\n",
    "# a little light formatting to make it look more familiar\n",
    "solution = solution * (q + p)\n",
    "solution = sp.simplify(solution)\n",
    "a = solution.as_ordered_terms()\n",
    "a = [x/(q + p) for x in a]\n",
    "a = [sp.simplify(x) for x in a]\n",
    "solution = sum(a)\n",
    "solution"
   ]
  },
  {
   "cell_type": "markdown",
   "id": "4da244f1-66c5-4957-9475-26c7a49c6ae3",
   "metadata": {},
   "source": [
    "This is exactly the same as the Kelly solution except that the probabilities are normalized by their sum.  In other words, both $p$ and $q$ are treated as if they add up to one.  For Thorpe's example, it is as if the middle outcome never even existed.\n",
    "\n",
    "Let's see an example with the following inputs:\n",
    "\n",
    "- $b_1 = 2$\n",
    "- $b_2 = -1$\n",
    "- $p = 0.3$\n",
    "- $q = 0.2$"
   ]
  },
  {
   "cell_type": "code",
   "execution_count": 24,
   "id": "df3f2753-8d4c-436b-8141-c0aff6c72ef5",
   "metadata": {},
   "outputs": [
    {
     "name": "stdout",
     "output_type": "stream",
     "text": [
      "The optimal investment ratio is 0.40.\n"
     ]
    }
   ],
   "source": [
    "b1, b2, p, q = 2, -1, 0.3, 0.2\n",
    "\n",
    "f = -p / b2 / (p + q) - q / b1 / (p + q)\n",
    "print(f'The optimal investment ratio is {f:.2f}.')"
   ]
  },
  {
   "cell_type": "code",
   "execution_count": 29,
   "id": "1c8f1979-036f-49fd-a4be-100723ae8f0c",
   "metadata": {},
   "outputs": [
    {
     "name": "stdout",
     "output_type": "stream",
     "text": [
      "The optimal investment ratio is 0.40.\n"
     ]
    }
   ],
   "source": [
    "# What happens if we divide both p and q by 100?\n",
    "\n",
    "b1, b2, p, q = 2, -1, 0.003, 0.002\n",
    "\n",
    "f = -p / b2 / (p + q) - q / b1 / (p + q)\n",
    "print(f'The optimal investment ratio is {f:.2f}.')"
   ]
  },
  {
   "cell_type": "markdown",
   "id": "dbb93eff-14d3-4461-9671-24eac044767e",
   "metadata": {},
   "source": [
    "This is a very strange result.  If we assume $p$ is 60% and $q$ is 40%.  It makes sense that someone would be willing to bet 40% of their investment purse.  Once $p$ and $q$ are divided by two, that means half the time, the better would win or lose nothing.  It is harder to argue that someone would take that bet.  \n",
    "\n",
    "Going further, the last example has no winnings or losses 99.5% of the time.  The better must have other decent options to invest their money.  This brings up the idea of an opportunity cost.  The following section will explore the Kelly Criterion when the better earns an interest rate on funds not in the bet.\n",
    "\n",
    "<a id='second'></a>\n",
    "### Adding a Risk Free Rate\n",
    "This derivation follows <a href=\"https://www.columbia.edu/~ww2040/PortfolioChoice96.pdf\">Porffolio Choice and the Bayesian Kelly Criterion</a> by Browne and Whitt.  That said, this was not a focus of their research and they didn't go into the implications of this method.\n",
    "\n",
    "The setup for this analysis is that, no matter which path you take, whether success ($p$) or failure ($q$), you always earn $(1 - f)*r$.\n",
    "\n",
    "$expected\\ winnings = (1 + (1 - f)r + f b_1)^p \\ (1 + (1 - f)r + f b_2)^q$\n",
    "\n",
    "This can be rewritten as:\n",
    "\n",
    "$expected\\ winnings = (1 + r + f (b_1 - r))^p \\ (1 + r + f (b_2 - r))^q$\n"
   ]
  },
  {
   "cell_type": "code",
   "execution_count": 42,
   "id": "89bcd943-0e98-40b1-825d-11b0cff31bea",
   "metadata": {},
   "outputs": [
    {
     "data": {
      "text/latex": [
       "$\\displaystyle \\left(f \\left(b_{1} - r\\right) + r + 1\\right)^{p} \\left(f \\left(b_{2} - r\\right) + r + 1\\right)^{q}$"
      ],
      "text/plain": [
       "(f*(b1 - r) + r + 1)**p*(f*(b2 - r) + r + 1)**q"
      ]
     },
     "execution_count": 42,
     "metadata": {},
     "output_type": "execute_result"
    }
   ],
   "source": [
    "f, b1, b2, p, q, r = sp.symbols('f b1 b2 p q r')\n",
    "\n",
    "alt_kelly_r = (1 + r + (b1 - r) * f)**p * (1 + r + (b2 - r) * f)**q\n",
    "\n",
    "alt_kelly_r"
   ]
  },
  {
   "cell_type": "markdown",
   "id": "e94a15c2-b8da-494e-a32a-3967b3c2fd43",
   "metadata": {},
   "source": [
    "We'll start by taking the first derivative and finding the solution."
   ]
  },
  {
   "cell_type": "code",
   "execution_count": 64,
   "id": "020efe10-2fc8-4cb2-a052-3b2ca42be587",
   "metadata": {},
   "outputs": [
    {
     "data": {
      "text/latex": [
       "$\\displaystyle p \\left(b_{1} - r\\right) \\left(f \\left(b_{2} - r\\right) + r + 1\\right) + q \\left(b_{2} - r\\right) \\left(f \\left(b_{1} - r\\right) + r + 1\\right)$"
      ],
      "text/plain": [
       "p*(b1 - r)*(f*(b2 - r) + r + 1) + q*(b2 - r)*(f*(b1 - r) + r + 1)"
      ]
     },
     "execution_count": 64,
     "metadata": {},
     "output_type": "execute_result"
    }
   ],
   "source": [
    "first_r = sp.diff(alt_kelly_r, f)\n",
    "first_r = first_r.as_ordered_terms()\n",
    "first_r = [x / (1 + r + (b1 - r)*f)**(p - 1) for x in first_r]\n",
    "first_r = [x / (1 + r + (b2 - r)*f)**(q - 1) for x in first_r]\n",
    "first_r = [sp.simplify(x) for x in first_r]\n",
    "\n",
    "first_r = sum(first_r)\n",
    "first_r"
   ]
  },
  {
   "cell_type": "code",
   "execution_count": 78,
   "id": "558fecd6-4d41-4147-a832-dc94e20065ed",
   "metadata": {},
   "outputs": [
    {
     "data": {
      "text/latex": [
       "$\\displaystyle f \\left(b_{1} - r\\right) \\left(b_{2} - r\\right) \\left(p + q\\right) + p \\left(b_{1} - r\\right) \\left(r + 1\\right) + q \\left(b_{2} - r\\right) \\left(r + 1\\right)$"
      ],
      "text/plain": [
       "f*(b1 - r)*(b2 - r)*(p + q) + p*(b1 - r)*(r + 1) + q*(b2 - r)*(r + 1)"
      ]
     },
     "execution_count": 78,
     "metadata": {},
     "output_type": "execute_result"
    }
   ],
   "source": [
    "# I'm not an expert in Sympy yet so I'll manually rewrite this, for better manipulation\n",
    "\n",
    "first_r = f * (p + q)*(b1 - r)*(b2 - r) + (1 + r)*p*(b1 - r) + (1 + r)*q*(b2 -r)\n",
    "first_r"
   ]
  },
  {
   "cell_type": "code",
   "execution_count": 80,
   "id": "edba6692-a245-4859-9943-212c35fb8344",
   "metadata": {},
   "outputs": [
    {
     "data": {
      "text/latex": [
       "$\\displaystyle f + \\frac{p \\left(r + 1\\right)}{b_{2} - r} + \\frac{q \\left(r + 1\\right)}{b_{1} - r}$"
      ],
      "text/plain": [
       "f + p*(r + 1)/(b2 - r) + q*(r + 1)/(b1 - r)"
      ]
     },
     "execution_count": 80,
     "metadata": {},
     "output_type": "execute_result"
    }
   ],
   "source": [
    "# we are looking for f = 0 so it doesn't matter if we get rid of a few common terms\n",
    "\n",
    "# the following line becomes important later\n",
    "first_r = first_r.subs(p+q, 1)\n",
    "\n",
    "first_r = first_r.as_ordered_terms()\n",
    "first_r = [x / (b1 - r) / (b2 - r) for x in first_r]\n",
    "first_r = sum(first_r)\n",
    "first_r"
   ]
  },
  {
   "cell_type": "code",
   "execution_count": 97,
   "id": "add4e95f-0d27-4d02-a008-8f16c0fb15d5",
   "metadata": {},
   "outputs": [
    {
     "data": {
      "text/latex": [
       "$\\displaystyle - \\frac{p \\left(r + 1\\right)}{b_{2} - r} - \\frac{q \\left(r + 1\\right)}{b_{1} - r}$"
      ],
      "text/plain": [
       "-p*(r + 1)/(b2 - r) - q*(r + 1)/(b1 - r)"
      ]
     },
     "execution_count": 97,
     "metadata": {},
     "output_type": "execute_result"
    }
   ],
   "source": [
    "# I could have done this more formally but the solution was obvious\n",
    "\n",
    "solution_r = -(first_r - f)\n",
    "solution_r"
   ]
  },
  {
   "cell_type": "markdown",
   "id": "600f7f46-7786-43f8-990f-e15efd5a9d67",
   "metadata": {},
   "source": [
    "This looks like the normal Kelly solution but now the bet payoffs are adjusted and the entire amount is multiplied by $(1 + r)$.  This is a cool looking solution but it is not clear whether it achieves what we hope.  We want the better fraction in the presence of $r$ to be less than that without.\n",
    "\n",
    "To show that this is the case, I'll take the derivative with respect to $r$ and show that it is negative for all interesting inputs."
   ]
  },
  {
   "cell_type": "code",
   "execution_count": 231,
   "id": "2478d555-a2f6-46f8-83ba-b560b0919129",
   "metadata": {},
   "outputs": [
    {
     "data": {
      "text/latex": [
       "$\\displaystyle - \\frac{p \\left(b_{2} + 1\\right)}{\\left(b_{2} - r\\right)^{2}} - \\frac{q \\left(b_{1} + 1\\right)}{\\left(b_{1} - r\\right)^{2}}$"
      ],
      "text/plain": [
       "-p*(b2 + 1)/(b2 - r)**2 - q*(b1 + 1)/(b1 - r)**2"
      ]
     },
     "execution_count": 231,
     "metadata": {},
     "output_type": "execute_result"
    }
   ],
   "source": [
    "diff_by_r = sp.diff(solution_r, r)\n",
    "diff_by_r = diff_by_r.as_ordered_terms()\n",
    "\n",
    "# the following lines simply move a negative sign out of the parenthesis for easier reading\n",
    "a1 = sp.simplify(sum(diff_by_r[:2]))\n",
    "a1 = sp.factor(sp.numer(a1))/sp.denom(a1)\n",
    "\n",
    "a2 = sp.simplify(sum(diff_by_r[2:]))\n",
    "a2 = sp.factor(sp.numer(a2))/sp.denom(a2)\n",
    "\n",
    "diff_by_r = a1 + a2\n",
    "diff_by_r\n"
   ]
  },
  {
   "cell_type": "markdown",
   "id": "ae38085f-7a1a-47fd-b661-15a64b7608f9",
   "metadata": {},
   "source": [
    "- $b_2$ is always negative and never lower than $-1$.  We can't lose more than we have bet.  This ensures the first term is always negative.\n",
    "- $b_1$ is always positive so the second term is also always negative.\n",
    "\n",
    "This proves that introducing a positive interest rate (or other opportunity cost) always reduces the bet fraction.  Unfortunately, as we'll see in the next cell, we still have the problem that $p + q \\ne 1$ is an issue."
   ]
  },
  {
   "cell_type": "code",
   "execution_count": 242,
   "id": "2424eb2f-f0e9-4684-be33-32f54518d874",
   "metadata": {},
   "outputs": [
    {
     "data": {
      "text/latex": [
       "$\\displaystyle - \\frac{p \\left(r + 1\\right)}{\\left(b_{2} - r\\right) \\left(p + q\\right)} - \\frac{q \\left(r + 1\\right)}{\\left(b_{1} - r\\right) \\left(p + q\\right)}$"
      ],
      "text/plain": [
       "-p*(r + 1)/((b2 - r)*(p + q)) - q*(r + 1)/((b1 - r)*(p + q))"
      ]
     },
     "execution_count": 242,
     "metadata": {},
     "output_type": "execute_result"
    }
   ],
   "source": [
    "first_r = f * (p + q)*(b1 - r)*(b2 - r) + (1 + r)*p*(b1 - r) + (1 + r)*q*(b2 -r)\n",
    "\n",
    "#unlike before, I'm commenting out the following substition\n",
    "#first_r = first_r.subs(p+q, 1)\n",
    "\n",
    "# instead, I'll divide it from the first derivative to get the solution\n",
    "first_r = first_r.as_ordered_terms()\n",
    "first_r = [x / (b1 - r) / (b2 - r) / (p + q) for x in first_r]\n",
    "first_r = sum(first_r)\n",
    "solution = - (first_r - f)\n",
    "solution"
   ]
  },
  {
   "cell_type": "markdown",
   "id": "9a245c7b-170b-4524-93e5-6520a77eec20",
   "metadata": {},
   "source": [
    "Even though we've adjusted the payoffs and multiplied by (1 + r), we still have a non-sensical result."
   ]
  }
 ],
 "metadata": {
  "kernelspec": {
   "display_name": "Python 3 (ipykernel)",
   "language": "python",
   "name": "python3"
  },
  "language_info": {
   "codemirror_mode": {
    "name": "ipython",
    "version": 3
   },
   "file_extension": ".py",
   "mimetype": "text/x-python",
   "name": "python",
   "nbconvert_exporter": "python",
   "pygments_lexer": "ipython3",
   "version": "3.11.0"
  }
 },
 "nbformat": 4,
 "nbformat_minor": 5
}
