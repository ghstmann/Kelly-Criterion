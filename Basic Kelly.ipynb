{
 "cells": [
  {
   "cell_type": "markdown",
   "id": "4b3f1424-bc6d-4177-bfee-dcf0710b71bf",
   "metadata": {},
   "source": [
    "# The Kelly Criteria without the Log Transformation\n",
    "\n",
    "Of the three main bet sizing methods in finance, the Kelly Criteria is arguably the most fun, maybe due to its use in sports betting.  (The other two are Markowitz optimization and the Gordon Growth model.)   People have been trying to extend it for decades and it is a popular discussion topic among investors. Warren Buffett once said:\n",
    "\n",
    ">I have 2 views on diversification. If you are a professional and have confidence, then I would advocate lots of concentration. For everyone else, if it's not your game, participate in total diversification. So this means that professionals use Kelly and amateurs better off with index funds following the capital asset pricing model.\n",
    "\n",
    "Kelly made an interesting modeling decision in his original 1956 publication to wrap potential gains inside of a logarithm.  Without fail, every other paper has used the same transformation.  The main arguments in the earliest papers was that the transform implied working with growth rates instead of resulting wealth.  I'm going to show that this decision led to some awkward behavior and that removing it solves those issues. \n",
    "\n",
    "There was one interesting discussion between the economist Paul Samuelson and Professor William Ziemba which ran from 2008 to 2012 about how the logarithic utility used by Kelly was not sound economics.  You can find the conversation <a href=\"https://papers.ssrn.com/sol3/papers.cfm?abstract_id=2161068\">here</a>.  This was also published in the Journal of Portfolio Management in 2015.\n",
    "\n",
    "___\n",
    "### Standard derivation of the Kelly Criteria\n",
    "\n",
    "First, we derive the standard Kelly betting fraction.  \n",
    "\n",
    "We assume that a proportion $f$ of your investment cash is put on each bet.  The probability of winning is $\\rho$ and is known with certainty.  If we win a bet, we We want to find the $f$ that maximizes our future growth.  \n",
    "\n",
    "After N bets:\n",
    "\n",
    "$V_T = V_o (1 + f\\ b)^W (1 - f)^L$\n",
    "\n",
    "If we divide by $V_o$ and take the $N^{th}$ root, we find the approximate return per bet:\n",
    "\n",
    "$ \\frac{V_T}{V_o}^{1/N} \\approx (1 + f\\ b)^\\rho (1 - f)^{(1 - \\rho)}$\n",
    "\n",
    "Taking the natural logarithm:\n",
    "\n",
    "$\\frac{1}{N}(Ln(V_T) - Ln(V_o)) = \\rho\\ Ln(1 + f\\ b) + (1 - \\rho)\\ Ln(1 - f)$\n",
    "\n",
    "\n",
    "The optimal betting fraction is derived by taking the first deritive and setting it equal to zero.\n",
    "\n",
    "$f = \\rho - \\frac{q}{b}$\n",
    "\n",
    "where $q \\equiv 1 - \\rho$.\n",
    "\n",
    "The following cells repeat this derivation more formally using Sympy but extending the result to situations where losses can be less than 100%.\n"
   ]
  },
  {
   "cell_type": "code",
   "execution_count": 39,
   "id": "3f0d9c7a-d89e-4d40-a2ab-65ab6431649a",
   "metadata": {},
   "outputs": [
    {
     "data": {
      "text/latex": [
       "$\\displaystyle q \\log{\\left(b_{2} f + 1 \\right)} + 𝜌 \\log{\\left(b_{1} f + 1 \\right)}$"
      ],
      "text/plain": [
       "q*log(b2*f + 1) + 𝜌*log(b1*f + 1)"
      ]
     },
     "execution_count": 39,
     "metadata": {},
     "output_type": "execute_result"
    }
   ],
   "source": [
    "import sympy as sp\n",
    "\n",
    "f, b1, b2, 𝜌, q = sp.symbols('f b1 b2 𝜌 q')\n",
    "kelly = 𝜌 * sp.ln(1 + b1 * f) + q * sp.ln(1 + b2 * f)\n",
    "\n",
    "kelly"
   ]
  },
  {
   "cell_type": "code",
   "execution_count": 40,
   "id": "faa7e990-955e-4ef4-9515-76def1bb543a",
   "metadata": {},
   "outputs": [
    {
     "data": {
      "text/latex": [
       "$\\displaystyle - \\frac{𝜌}{b_{2}} - \\frac{q}{b_{1}}$"
      ],
      "text/plain": [
       "-𝜌/b2 - q/b1"
      ]
     },
     "execution_count": 40,
     "metadata": {},
     "output_type": "execute_result"
    }
   ],
   "source": [
    "# taking the first derivative\n",
    "first = sp.diff(kelly, f)\n",
    "solution = sp.simplify(sp.solve(first, f)[0])\n",
    "\n",
    "# a little light formatting to make it look more familiar\n",
    "solution = solution.subs(𝜌+q, 1)\n",
    "solution = sp.simplify(solution)\n",
    "\n",
    "solution"
   ]
  },
  {
   "cell_type": "markdown",
   "id": "e091c044-9200-49a7-b568-5f3e8dcfe0dc",
   "metadata": {},
   "source": [
    "If we set $b_2$ equal to $-1$ and $b_1$ equal to $b$, we achieve the solution as seen in the introduction.\n",
    "___\n",
    "Of more interest is the second condition for a maximum value, which is that the second derivative needs to be negative.  The next cell shows that second derivative is in all places negative so all solutions are maximums."
   ]
  },
  {
   "cell_type": "code",
   "execution_count": 42,
   "id": "18fc65ae-8b9c-4953-bed2-309bac0ce712",
   "metadata": {},
   "outputs": [
    {
     "data": {
      "text/latex": [
       "$\\displaystyle - \\frac{b_{1}^{2} 𝜌}{\\left(b_{1} f + 1\\right)^{2}} - \\frac{b_{2}^{2} q}{\\left(b_{2} f + 1\\right)^{2}}$"
      ],
      "text/plain": [
       "-b1**2*𝜌/(b1*f + 1)**2 - b2**2*q/(b2*f + 1)**2"
      ]
     },
     "execution_count": 42,
     "metadata": {},
     "output_type": "execute_result"
    }
   ],
   "source": [
    "second = sp.diff(first, f)\n",
    "second"
   ]
  },
  {
   "cell_type": "markdown",
   "id": "2e3ce845-ce75-4eef-a825-b5620ebd4ed6",
   "metadata": {},
   "source": [
    "This is a non-sensical result.  We can see this by providing non-standard values for $b_1$ and $b_2$.  For example, if both outcomes lead to a loss, such as $b_1 = -0.5$ and $b_2 = -1.0$, the Kelly criteria will always have a positive betting fraction.  If both outcomes lead to a positive gain, the Kelly criteria leads to a short position.\n",
    "\n",
    "This is a direct result of the logarithmic transform.  In next cells, we will remove the transform and repeat the derivations.  We will find that:\n",
    "\n",
    "- we will achieve the same first derivative result\n",
    "- the second derivative result will actually make sense\n",
    "- further, we will find that the second derivative is negative if and only if $b_1$ and $b_2$ have opposite signs.\n",
    "\n",
    "### The alternative derivation"
   ]
  },
  {
   "cell_type": "code",
   "execution_count": 44,
   "id": "de8cd9e6-9733-4d01-8cb6-16650f7048b0",
   "metadata": {},
   "outputs": [
    {
     "data": {
      "text/latex": [
       "$\\displaystyle \\left(b_{1} f + 1\\right)^{𝜌} \\left(b_{2} f + 1\\right)^{q}$"
      ],
      "text/plain": [
       "(b1*f + 1)**𝜌*(b2*f + 1)**q"
      ]
     },
     "execution_count": 44,
     "metadata": {},
     "output_type": "execute_result"
    }
   ],
   "source": [
    "alt_kelly = (1 + b1 * f)**𝜌 * (1 + b2 * f)**q\n",
    "\n",
    "alt_kelly"
   ]
  },
  {
   "cell_type": "code",
   "execution_count": 45,
   "id": "3f3f43ae-df25-4b69-a841-1f522d054814",
   "metadata": {},
   "outputs": [
    {
     "data": {
      "text/latex": [
       "$\\displaystyle - \\frac{𝜌}{b_{2}} - \\frac{q}{b_{1}}$"
      ],
      "text/plain": [
       "-𝜌/b2 - q/b1"
      ]
     },
     "execution_count": 45,
     "metadata": {},
     "output_type": "execute_result"
    }
   ],
   "source": [
    "alt_first = sp.diff(alt_kelly, f)\n",
    "alt_solution = sp.simplify(sp.solve(alt_first, f)[0])\n",
    "\n",
    "# a little light formatting to make it look more familiar\n",
    "alt_solution = alt_solution.subs(𝜌+q, 1)\n",
    "alt_solution = sp.simplify(alt_solution)\n",
    "\n",
    "solution"
   ]
  },
  {
   "cell_type": "markdown",
   "id": "600484c9-8f18-45b8-9478-7447828d4883",
   "metadata": {},
   "source": [
    "This was the exact same solution achieved for the logarithm-transformed Kelly Criteria.\n",
    "___"
   ]
  },
  {
   "cell_type": "code",
   "execution_count": 47,
   "id": "e12bb822-907e-4bb3-8429-0e165b9f257f",
   "metadata": {},
   "outputs": [
    {
     "data": {
      "text/latex": [
       "$\\displaystyle b_{1} 𝜌 \\left(b_{1} f + 1\\right)^{𝜌 - 1} \\left(b_{2} f + 1\\right)^{q} + b_{2} q \\left(b_{1} f + 1\\right)^{𝜌} \\left(b_{2} f + 1\\right)^{q - 1}$"
      ],
      "text/plain": [
       "b1*𝜌*(b1*f + 1)**(𝜌 - 1)*(b2*f + 1)**q + b2*q*(b1*f + 1)**𝜌*(b2*f + 1)**(q - 1)"
      ]
     },
     "execution_count": 47,
     "metadata": {},
     "output_type": "execute_result"
    }
   ],
   "source": [
    "# a little Sympy manipulation to make things look nice and then we show the actual first derivative\n",
    "\n",
    "a = alt_first.as_ordered_terms()\n",
    "alt_first = sp.simplify(a[0]) + sp.simplify(a[1])\n",
    "alt_first"
   ]
  },
  {
   "cell_type": "markdown",
   "id": "ab7cb0a7-ea15-4aee-a317-7dbd6794f031",
   "metadata": {},
   "source": [
    "Before we move to the second derivative, a comment on the next cell.  Sympy does not always make things easier to read and it often leaves simple adjustments undone.  A lot of what is being done here is for clarity of the end result.  \n",
    "\n",
    "Also, we will divide the second derivative by positive factors a few times to remove clutter.  We are only interested in the final result of knowing when the second derivative is negative.\n",
    "\n",
    "Finally, we will assume that $(1 + b_i * f)$ is positive.  The negative and zero solutions are not valid in this context."
   ]
  },
  {
   "cell_type": "code",
   "execution_count": 64,
   "id": "fab89d19-6567-4eda-892a-3f4b4dc61b2e",
   "metadata": {},
   "outputs": [
    {
     "data": {
      "text/latex": [
       "$\\displaystyle \\frac{b_{1} b_{2}}{q 𝜌}$"
      ],
      "text/plain": [
       "b1*b2/(q*𝜌)"
      ]
     },
     "execution_count": 64,
     "metadata": {},
     "output_type": "execute_result"
    }
   ],
   "source": [
    "alt_second = sp.diff(alt_first, f)\n",
    "\n",
    "a = alt_second.as_ordered_terms()\n",
    "a = [x / 𝜌 / q for x in a]\n",
    "\n",
    "bet1 = (1 + b1 * f)\n",
    "bet2 = (1 + b2 * f)\n",
    "\n",
    "# this is the most important division, removing most of the additional factors in the equation \n",
    "a = [x / bet1**(𝜌 - 1) / bet2**(-𝜌) for x in a]\n",
    "a = [x.subs(𝜌 - 1, -q) for x in a]\n",
    "a = [sp.simplify(x) for x in a]\n",
    "a = [x.subs(𝜌 + q, 1) for x in a]\n",
    "\n",
    "# in this step, we substitute in the solution for the extremum from the first derivative\n",
    "a = [x.subs(f, alt_solution) for x in a]\n",
    "a = [sp.simplify(x) for x in a]\n",
    "\n",
    "# the rest is simply formatting for a more pleasant end result\n",
    "a = [x.subs(b1 - 𝜌*b1, q*b1) for x in a]\n",
    "a = [x.subs(q*b2 - b2, -𝜌*b2) for x in a]\n",
    "a = [sp.simplify(x) for x in a]\n",
    "\n",
    "a = [x.subs(1 - q, 𝜌) for x in a]\n",
    "a = [sp.simplify(x) for x in a]\n",
    "\n",
    "\n",
    "alt_second = sum(a)\n",
    "alt_second = sp.simplify(alt_second)\n",
    "alt_second = alt_second.subs(𝜌**2 + 2*𝜌*q + q**2, 1)\n",
    "alt_second"
   ]
  },
  {
   "cell_type": "markdown",
   "id": "f7608869-8a97-4d4e-89e2-e8e2e7aaf226",
   "metadata": {},
   "source": [
    "We see that the second derivative is proportional to $ b_1 * b_2 $, implying that all solutions are maximums if and only if $b_1$ and $b_2$ are of different signs.  This is a very satisfying result.  Even though log returns are more useful for statistical analysis, I have yet to find a mathematical derivation where removing the logarithm does not work."
   ]
  },
  {
   "cell_type": "code",
   "execution_count": 66,
   "id": "32038685-b9d2-41d3-83c1-47b5b3129289",
   "metadata": {},
   "outputs": [
    {
     "data": {
      "text/latex": [
       "$\\displaystyle b_{1} b_{2} \\left(b_{1} f + 1\\right)^{- q} \\left(b_{2} f + 1\\right)^{- 𝜌}$"
      ],
      "text/plain": [
       "b1*b2/((b1*f + 1)**q*(b2*f + 1)**𝜌)"
      ]
     },
     "execution_count": 66,
     "metadata": {},
     "output_type": "execute_result"
    }
   ],
   "source": [
    "# for completeness, we'll revert to the full second derivative and will display it\n",
    "alt_second = alt_second * 𝜌 * q\n",
    "alt_second = alt_second * bet1**(-q) * bet2**(-𝜌) \n",
    "alt_second"
   ]
  }
 ],
 "metadata": {
  "kernelspec": {
   "display_name": "Python 3 (ipykernel)",
   "language": "python",
   "name": "python3"
  },
  "language_info": {
   "codemirror_mode": {
    "name": "ipython",
    "version": 3
   },
   "file_extension": ".py",
   "mimetype": "text/x-python",
   "name": "python",
   "nbconvert_exporter": "python",
   "pygments_lexer": "ipython3",
   "version": "3.11.0"
  }
 },
 "nbformat": 4,
 "nbformat_minor": 5
}
