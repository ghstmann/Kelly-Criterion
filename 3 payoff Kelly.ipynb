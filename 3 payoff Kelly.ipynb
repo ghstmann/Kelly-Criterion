{
 "cells": [
  {
   "cell_type": "markdown",
   "id": "90825162-b971-4572-9dad-fbea8ffbecf0",
   "metadata": {},
   "source": [
    "$\\Large \\sum{\\frac{\\rho_i b_i}{1 + f b_i}}$<br><br>\n",
    "\n",
    "$\\large \\sum{\\rho_i b_i (1 + f b_j)(1 + b_k)} = \\sum{\\rho_i b_i (1 + f^2 b_j b_k + f (b_j + b_k))}$\n",
    "\n",
    "___"
   ]
  },
  {
   "cell_type": "markdown",
   "id": "7a7270ea-7e89-4388-a426-0541334c3fe1",
   "metadata": {},
   "source": [
    "$\\Large f^2 + f (\\frac{q_1}{b_1} + \\frac{q_2}{b_2} + \\frac{q_3}{b_3}) + \\frac{\\rho_1}{b_2 b_3} + \\frac{\\rho_2}{b_1 b_3} + \\frac{\\rho_3}{b_1 b_2} = 0$<br><br>\n",
    "\n"
   ]
  },
  {
   "cell_type": "markdown",
   "id": "dd3c2515-b0e6-480e-aad8-a7aa85e2ca73",
   "metadata": {},
   "source": [
    "$\\Large f = -(\\frac{q_1}{b_1} + \\frac{q_2}{b_2} + \\frac{q_3}{b_3}) + \\frac{\\rho_1 b_1 + \\rho_2 b_2 + \\rho_3 b_3}{q_1 b_2 b_3 + q_2 b_1 b_3 + q_3 b_1 b_2} + O(\\rho^2)$\n",
    "\n"
   ]
  },
  {
   "cell_type": "code",
   "execution_count": null,
   "id": "26984861-9376-4d7b-9802-85ace72e1081",
   "metadata": {},
   "outputs": [],
   "source": []
  }
 ],
 "metadata": {
  "kernelspec": {
   "display_name": "Python 3 (ipykernel)",
   "language": "python",
   "name": "python3"
  },
  "language_info": {
   "codemirror_mode": {
    "name": "ipython",
    "version": 3
   },
   "file_extension": ".py",
   "mimetype": "text/x-python",
   "name": "python",
   "nbconvert_exporter": "python",
   "pygments_lexer": "ipython3",
   "version": "3.11.6"
  }
 },
 "nbformat": 4,
 "nbformat_minor": 5
}
